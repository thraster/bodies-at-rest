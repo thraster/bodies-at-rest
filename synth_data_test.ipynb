{
 "cells": [
  {
   "cell_type": "code",
   "execution_count": 11,
   "metadata": {},
   "outputs": [],
   "source": [
    "import viz_synth as vs \n",
    "\n",
    "\n",
    "pfile_path = r\"data_BR\\synth\\general_supine\\test_roll0_m_lay_set14_1500.p\"\n",
    "subject = vs.load_synth(pfile_path)"
   ]
  },
  {
   "cell_type": "code",
   "execution_count": 12,
   "metadata": {},
   "outputs": [
    {
     "data": {
      "text/plain": [
       "array([[-0.13557276,  0.49558861,  0.15200232],\n",
       "       [-0.13794166,  0.48184943,  0.16017579],\n",
       "       [-0.12636018,  0.47993091,  0.15144187],\n",
       "       ...,\n",
       "       [-0.23598571,  0.40624263,  0.05507053],\n",
       "       [-0.23675512,  0.4078046 ,  0.0569728 ],\n",
       "       [-0.23869618,  0.40507181,  0.05959347]])"
      ]
     },
     "execution_count": 12,
     "metadata": {},
     "output_type": "execute_result"
    }
   ],
   "source": [
    "subject.get_mesh(110,viz=True)"
   ]
  },
  {
   "cell_type": "code",
   "execution_count": 3,
   "metadata": {},
   "outputs": [
    {
     "ename": "AttributeError",
     "evalue": "'load_synth' object has no attribute 'mesh_viz'",
     "output_type": "error",
     "traceback": [
      "\u001b[1;31m---------------------------------------------------------------------------\u001b[0m",
      "\u001b[1;31mAttributeError\u001b[0m                            Traceback (most recent call last)",
      "Cell \u001b[1;32mIn[3], line 1\u001b[0m\n\u001b[1;32m----> 1\u001b[0m subject\u001b[39m.\u001b[39;49mmesh_viz(\u001b[39m0\u001b[39m)\n\u001b[0;32m      2\u001b[0m subject\u001b[39m.\u001b[39mpmap_viz(\u001b[39m0\u001b[39m)\n\u001b[0;32m      3\u001b[0m subject\u001b[39m.\u001b[39mskeleton_viz(\u001b[39m0\u001b[39m)\n",
      "\u001b[1;31mAttributeError\u001b[0m: 'load_synth' object has no attribute 'mesh_viz'"
     ]
    }
   ],
   "source": []
  },
  {
   "cell_type": "code",
   "execution_count": 1,
   "metadata": {},
   "outputs": [
    {
     "ename": "NameError",
     "evalue": "name 'subject' is not defined",
     "output_type": "error",
     "traceback": [
      "\u001b[1;31m---------------------------------------------------------------------------\u001b[0m",
      "\u001b[1;31mNameError\u001b[0m                                 Traceback (most recent call last)",
      "Cell \u001b[1;32mIn[1], line 1\u001b[0m\n\u001b[1;32m----> 1\u001b[0m subject\u001b[39m.\u001b[39mdat\n",
      "\u001b[1;31mNameError\u001b[0m: name 'subject' is not defined"
     ]
    }
   ],
   "source": [
    "subject.dat"
   ]
  }
 ],
 "metadata": {
  "kernelspec": {
   "display_name": "pt1.2",
   "language": "python",
   "name": "python3"
  },
  "language_info": {
   "codemirror_mode": {
    "name": "ipython",
    "version": 3
   },
   "file_extension": ".py",
   "mimetype": "text/x-python",
   "name": "python",
   "nbconvert_exporter": "python",
   "pygments_lexer": "ipython3",
   "version": "3.8.17"
  },
  "orig_nbformat": 4
 },
 "nbformat": 4,
 "nbformat_minor": 2
}
