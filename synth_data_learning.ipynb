{
 "cells": [
  {
   "cell_type": "code",
   "execution_count": 2,
   "metadata": {},
   "outputs": [],
   "source": [
    "import pickle\n",
    "\n",
    "# import lib_py.tensorprep_lib_br as tpl\n",
    "\n",
    "def load_pickle(filename):\n",
    "    with open(filename, 'rb') as f:\n",
    "        return pickle.load(f,encoding='latin1')"
   ]
  },
  {
   "cell_type": "code",
   "execution_count": 3,
   "metadata": {},
   "outputs": [],
   "source": [
    "path = r'data_BR\\synth\\crossed_legs\\test_roll0_xl_f_lay_set1both_500.p'\n",
    "dat = load_pickle(path)"
   ]
  },
  {
   "cell_type": "markdown",
   "metadata": {},
   "source": [
    ".p文件具有的keys:\n",
    "1. markers_xyz_m: 人体模型的3d关节点坐标 (24,3)\n",
    "2. body_shape: smpl模型的shape参数, 10个\n",
    "3. mesh_contact: 模型与床的接触图 (27,64)\n",
    "4. mesh_depth: 模型深度图 (27, 64)\n",
    "5. root_xyz_shift: 根节点偏移 (1,3)\n",
    "6. body_height: 身高(m)\n",
    "7. body_mass: 体重(kg)\n",
    "8. images: 可能是pressure image (1728*1 = 64*27)\n",
    "9. joint_angles: smpl模型的pose参数 (24,3)\n",
    "10. bed_angle_deg: 床角度偏移？ 1位float"
   ]
  },
  {
   "cell_type": "code",
   "execution_count": 4,
   "metadata": {},
   "outputs": [
    {
     "name": "stdout",
     "output_type": "stream",
     "text": [
      "markers_xyz_m\n",
      "body_shape\n",
      "mesh_contact\n",
      "mesh_depth\n",
      "root_xyz_shift\n",
      "body_height\n",
      "body_mass\n",
      "images\n",
      "joint_angles\n",
      "bed_angle_deg\n"
     ]
    }
   ],
   "source": [
    "for key in dat.keys():\n",
    "    print(key)"
   ]
  },
  {
   "cell_type": "code",
   "execution_count": 5,
   "metadata": {},
   "outputs": [
    {
     "data": {
      "text/plain": [
       "(array([ 1.82625289,  1.93720546,  2.6573664 , -0.09655853, -2.18266708,\n",
       "        -0.64559248, -1.8981005 , -1.36873223,  1.61113298, -2.45709395]),\n",
       " 10)"
      ]
     },
     "execution_count": 5,
     "metadata": {},
     "output_type": "execute_result"
    }
   ],
   "source": [
    "dat['body_shape'][0],dat['body_shape'][0].__len__()"
   ]
  },
  {
   "cell_type": "code",
   "execution_count": 22,
   "metadata": {},
   "outputs": [
    {
     "data": {
      "text/plain": [
       "(array([ 0.07950144,  0.0130857 , -0.43232676, -0.34981944, -0.08516278,\n",
       "         0.19846299, -0.2047632 , -0.2261929 ,  0.26333876, -0.00590829,\n",
       "         0.01605039,  0.00114056,  0.74215274,  0.        ,  0.        ,\n",
       "         0.40648508,  0.        ,  0.        , -0.00370546,  0.01434076,\n",
       "        -0.00402116,  0.05829127, -0.29055909, -0.10360811,  0.49898058,\n",
       "        -0.08877306,  0.21280994, -0.0332459 ,  0.05297203, -0.00416903,\n",
       "         0.        ,  0.        ,  0.        ,  0.        ,  0.        ,\n",
       "         0.        , -0.00569665, -0.0170949 , -0.07718233,  0.19622299,\n",
       "         0.25464442,  0.02110381,  0.06453974,  0.03304277,  0.19002942,\n",
       "         0.00175322, -0.01219853,  0.06157679,  0.94562459, -0.21063087,\n",
       "        -0.50777462,  0.09004152, -0.11962735,  0.68648436,  0.        ,\n",
       "        -0.62204055,  0.        ,  0.        ,  0.11630461,  0.        ,\n",
       "        -0.38814051, -0.1100192 ,  0.195815  ,  0.02491375, -0.03986225,\n",
       "        -0.00154684,  0.        ,  0.        ,  0.        ,  0.        ,\n",
       "         0.        ,  0.        ]),\n",
       " 72)"
      ]
     },
     "execution_count": 22,
     "metadata": {},
     "output_type": "execute_result"
    }
   ],
   "source": [
    "dat['joint_angles'][0],dat['joint_angles'][0].__len__(),"
   ]
  },
  {
   "cell_type": "code",
   "execution_count": 7,
   "metadata": {},
   "outputs": [],
   "source": [
    "dat['images'][0],dat['images'][0].__len__(),\n",
    "# 27 * 64的图片\n",
    "\n",
    "img = dat['images'][0].reshape(64,27)\n",
    "\n",
    "import cv2\n",
    "# 使用 cv2.imshow() 显示图像\n",
    "cv2.imshow('img', img)\n",
    "\n",
    "# 等待按键响应并关闭窗口\n",
    "cv2.waitKey(0)\n",
    "\n",
    "# 销毁所有窗口\n",
    "cv2.destroyAllWindows()"
   ]
  },
  {
   "cell_type": "code",
   "execution_count": 8,
   "metadata": {},
   "outputs": [
    {
     "data": {
      "text/plain": [
       "(64.49814777033984, 1.8274333950651)"
      ]
     },
     "execution_count": 8,
     "metadata": {},
     "output_type": "execute_result"
    }
   ],
   "source": [
    "dat['body_mass'][0],dat['body_height'][0]"
   ]
  },
  {
   "cell_type": "code",
   "execution_count": 21,
   "metadata": {},
   "outputs": [],
   "source": [
    "dat['markers_xyz_m'][0],dat['markers_xyz_m'][0].__len__(),\n",
    "\n",
    "\n",
    "import open3d as o3d\n",
    "\n",
    "nodes_3d = dat['markers_xyz_m'][0].reshape(24,3)\n",
    "\n",
    "# 创建一个Open3D点云对象\n",
    "pcd = o3d.geometry.PointCloud()\n",
    "\n",
    "# 设置点云数据\n",
    "pcd.points = o3d.utility.Vector3dVector(nodes_3d)\n",
    "\n",
    "# 创建可视化窗口\n",
    "o3d.visualization.draw_geometries([pcd])\n"
   ]
  },
  {
   "cell_type": "code",
   "execution_count": 10,
   "metadata": {},
   "outputs": [
    {
     "data": {
      "text/plain": [
       "(array([[False, False, False, ..., False, False, False],\n",
       "        [False, False, False, ..., False, False, False],\n",
       "        [False, False, False, ..., False, False, False],\n",
       "        ...,\n",
       "        [False, False, False, ..., False, False, False],\n",
       "        [False, False, False, ..., False, False, False],\n",
       "        [False, False, False, ..., False, False, False]]),\n",
       " 64)"
      ]
     },
     "execution_count": 10,
     "metadata": {},
     "output_type": "execute_result"
    }
   ],
   "source": [
    "dat['mesh_contact'][0],dat['mesh_contact'][0].__len__(), # 27*64"
   ]
  },
  {
   "cell_type": "code",
   "execution_count": 15,
   "metadata": {},
   "outputs": [
    {
     "data": {
      "text/plain": [
       "(27, 64)"
      ]
     },
     "execution_count": 15,
     "metadata": {},
     "output_type": "execute_result"
    }
   ],
   "source": [
    "\n",
    "dat['mesh_depth'][0][0].__len__(),dat['mesh_depth'][0].__len__(),"
   ]
  },
  {
   "cell_type": "code",
   "execution_count": 18,
   "metadata": {},
   "outputs": [
    {
     "data": {
      "text/plain": [
       "([0.7309519919560323, 1.127974717661992, 0.08024281818177006], 3)"
      ]
     },
     "execution_count": 18,
     "metadata": {},
     "output_type": "execute_result"
    }
   ],
   "source": [
    "dat['root_xyz_shift'][0],dat['root_xyz_shift'][0].__len__(),"
   ]
  },
  {
   "cell_type": "code",
   "execution_count": 20,
   "metadata": {},
   "outputs": [
    {
     "data": {
      "text/plain": [
       "(0.0, 0.0)"
      ]
     },
     "execution_count": 20,
     "metadata": {},
     "output_type": "execute_result"
    }
   ],
   "source": [
    "dat['bed_angle_deg'][0],dat['bed_angle_deg'][0],"
   ]
  },
  {
   "cell_type": "code",
   "execution_count": 23,
   "metadata": {},
   "outputs": [
    {
     "ename": "Exception",
     "evalue": "pyglet 2.0.9 requires Python 3.8 or newer.",
     "output_type": "error",
     "traceback": [
      "\u001b[1;31m---------------------------------------------------------------------------\u001b[0m",
      "\u001b[1;31mException\u001b[0m                                 Traceback (most recent call last)",
      "\u001b[1;32m<ipython-input-23-ad2c7791fb39>\u001b[0m in \u001b[0;36m<module>\u001b[1;34m\u001b[0m\n\u001b[1;32m----> 1\u001b[1;33m \u001b[1;32mimport\u001b[0m \u001b[0mviz_synth\u001b[0m \u001b[1;32mas\u001b[0m \u001b[0mvs\u001b[0m\u001b[1;33m\u001b[0m\u001b[1;33m\u001b[0m\u001b[0m\n\u001b[0m\u001b[0;32m      2\u001b[0m \u001b[1;33m\u001b[0m\u001b[0m\n\u001b[0;32m      3\u001b[0m \u001b[0mpfile_path\u001b[0m \u001b[1;33m=\u001b[0m \u001b[1;34mr\"data_BR\\synth\\crossed_legs\\test_roll0_xl_f_lay_set1both_500.p\"\u001b[0m\u001b[1;33m\u001b[0m\u001b[1;33m\u001b[0m\u001b[0m\n\u001b[0;32m      4\u001b[0m \u001b[0msubject\u001b[0m \u001b[1;33m=\u001b[0m \u001b[0mvs\u001b[0m\u001b[1;33m.\u001b[0m\u001b[0mviz_synth\u001b[0m\u001b[1;33m(\u001b[0m\u001b[0mpfile_path\u001b[0m\u001b[1;33m)\u001b[0m\u001b[1;33m\u001b[0m\u001b[1;33m\u001b[0m\u001b[0m\n",
      "\u001b[1;32md:\\workspace\\python_ws\\bodies-at-rest-master\\viz_synth.py\u001b[0m in \u001b[0;36m<module>\u001b[1;34m\u001b[0m\n\u001b[0;32m      1\u001b[0m \u001b[1;32mimport\u001b[0m \u001b[0mpickle\u001b[0m\u001b[1;33m\u001b[0m\u001b[1;33m\u001b[0m\u001b[0m\n\u001b[0;32m      2\u001b[0m \u001b[1;32mimport\u001b[0m \u001b[0mopen3d\u001b[0m \u001b[1;32mas\u001b[0m \u001b[0mo3d\u001b[0m\u001b[1;33m\u001b[0m\u001b[1;33m\u001b[0m\u001b[0m\n\u001b[1;32m----> 3\u001b[1;33m \u001b[1;32mimport\u001b[0m \u001b[0mutils\u001b[0m\u001b[1;33m\u001b[0m\u001b[1;33m\u001b[0m\u001b[0m\n\u001b[0m\u001b[0;32m      4\u001b[0m \u001b[1;32mimport\u001b[0m \u001b[0mnumpy\u001b[0m \u001b[1;32mas\u001b[0m \u001b[0mnp\u001b[0m\u001b[1;33m\u001b[0m\u001b[1;33m\u001b[0m\u001b[0m\n\u001b[0;32m      5\u001b[0m \u001b[1;32mimport\u001b[0m \u001b[0mcv2\u001b[0m\u001b[1;33m\u001b[0m\u001b[1;33m\u001b[0m\u001b[0m\n",
      "\u001b[1;32md:\\workspace\\python_ws\\bodies-at-rest-master\\utils.py\u001b[0m in \u001b[0;36m<module>\u001b[1;34m\u001b[0m\n\u001b[0;32m     15\u001b[0m \u001b[1;32mimport\u001b[0m \u001b[0mcv2\u001b[0m\u001b[1;33m\u001b[0m\u001b[1;33m\u001b[0m\u001b[0m\n\u001b[0;32m     16\u001b[0m \u001b[1;32mimport\u001b[0m \u001b[0mtrimesh\u001b[0m\u001b[1;33m\u001b[0m\u001b[1;33m\u001b[0m\u001b[0m\n\u001b[1;32m---> 17\u001b[1;33m \u001b[1;32mimport\u001b[0m \u001b[0mpyrender\u001b[0m\u001b[1;33m\u001b[0m\u001b[1;33m\u001b[0m\u001b[0m\n\u001b[0m\u001b[0;32m     18\u001b[0m \u001b[1;32mimport\u001b[0m \u001b[0mnumpy\u001b[0m \u001b[1;32mas\u001b[0m \u001b[0mnp\u001b[0m\u001b[1;33m\u001b[0m\u001b[1;33m\u001b[0m\u001b[0m\n\u001b[0;32m     19\u001b[0m \u001b[1;33m\u001b[0m\u001b[0m\n",
      "\u001b[1;32mc:\\Users\\t0290193\\AppData\\Local\\miniconda3\\envs\\pt1.2\\lib\\site-packages\\pyrender\\__init__.py\u001b[0m in \u001b[0;36m<module>\u001b[1;34m\u001b[0m\n\u001b[0;32m     10\u001b[0m \u001b[1;32mfrom\u001b[0m \u001b[1;33m.\u001b[0m\u001b[0mscene\u001b[0m \u001b[1;32mimport\u001b[0m \u001b[0mScene\u001b[0m\u001b[1;33m\u001b[0m\u001b[1;33m\u001b[0m\u001b[0m\n\u001b[0;32m     11\u001b[0m \u001b[1;32mfrom\u001b[0m \u001b[1;33m.\u001b[0m\u001b[0mrenderer\u001b[0m \u001b[1;32mimport\u001b[0m \u001b[0mRenderer\u001b[0m\u001b[1;33m\u001b[0m\u001b[1;33m\u001b[0m\u001b[0m\n\u001b[1;32m---> 12\u001b[1;33m \u001b[1;32mfrom\u001b[0m \u001b[1;33m.\u001b[0m\u001b[0mviewer\u001b[0m \u001b[1;32mimport\u001b[0m \u001b[0mViewer\u001b[0m\u001b[1;33m\u001b[0m\u001b[1;33m\u001b[0m\u001b[0m\n\u001b[0m\u001b[0;32m     13\u001b[0m \u001b[1;32mfrom\u001b[0m \u001b[1;33m.\u001b[0m\u001b[0moffscreen\u001b[0m \u001b[1;32mimport\u001b[0m \u001b[0mOffscreenRenderer\u001b[0m\u001b[1;33m\u001b[0m\u001b[1;33m\u001b[0m\u001b[0m\n\u001b[0;32m     14\u001b[0m \u001b[1;32mfrom\u001b[0m \u001b[1;33m.\u001b[0m\u001b[0mversion\u001b[0m \u001b[1;32mimport\u001b[0m \u001b[0m__version__\u001b[0m\u001b[1;33m\u001b[0m\u001b[1;33m\u001b[0m\u001b[0m\n",
      "\u001b[1;32mc:\\Users\\t0290193\\AppData\\Local\\miniconda3\\envs\\pt1.2\\lib\\site-packages\\pyrender\\viewer.py\u001b[0m in \u001b[0;36m<module>\u001b[1;34m\u001b[0m\n\u001b[0;32m     31\u001b[0m \u001b[1;32mfrom\u001b[0m \u001b[1;33m.\u001b[0m\u001b[0mmesh\u001b[0m \u001b[1;32mimport\u001b[0m \u001b[0mMesh\u001b[0m\u001b[1;33m\u001b[0m\u001b[1;33m\u001b[0m\u001b[0m\n\u001b[0;32m     32\u001b[0m \u001b[1;33m\u001b[0m\u001b[0m\n\u001b[1;32m---> 33\u001b[1;33m \u001b[1;32mimport\u001b[0m \u001b[0mpyglet\u001b[0m\u001b[1;33m\u001b[0m\u001b[1;33m\u001b[0m\u001b[0m\n\u001b[0m\u001b[0;32m     34\u001b[0m \u001b[1;32mfrom\u001b[0m \u001b[0mpyglet\u001b[0m \u001b[1;32mimport\u001b[0m \u001b[0mclock\u001b[0m\u001b[1;33m\u001b[0m\u001b[1;33m\u001b[0m\u001b[0m\n\u001b[0;32m     35\u001b[0m \u001b[0mpyglet\u001b[0m\u001b[1;33m.\u001b[0m\u001b[0moptions\u001b[0m\u001b[1;33m[\u001b[0m\u001b[1;34m'shadow_window'\u001b[0m\u001b[1;33m]\u001b[0m \u001b[1;33m=\u001b[0m \u001b[1;32mFalse\u001b[0m\u001b[1;33m\u001b[0m\u001b[1;33m\u001b[0m\u001b[0m\n",
      "\u001b[1;32mc:\\Users\\t0290193\\AppData\\Local\\miniconda3\\envs\\pt1.2\\lib\\site-packages\\pyglet\\__init__.py\u001b[0m in \u001b[0;36m<module>\u001b[1;34m\u001b[0m\n\u001b[0;32m     17\u001b[0m \u001b[1;33m\u001b[0m\u001b[0m\n\u001b[0;32m     18\u001b[0m \u001b[1;32mif\u001b[0m \u001b[0msys\u001b[0m\u001b[1;33m.\u001b[0m\u001b[0mversion_info\u001b[0m \u001b[1;33m<\u001b[0m \u001b[0mMIN_PYTHON_VERSION\u001b[0m\u001b[1;33m:\u001b[0m\u001b[1;33m\u001b[0m\u001b[1;33m\u001b[0m\u001b[0m\n\u001b[1;32m---> 19\u001b[1;33m     \u001b[1;32mraise\u001b[0m \u001b[0mException\u001b[0m\u001b[1;33m(\u001b[0m\u001b[1;34mf\"pyglet {version} requires Python {MIN_PYTHON_VERSION_STR} or newer.\"\u001b[0m\u001b[1;33m)\u001b[0m\u001b[1;33m\u001b[0m\u001b[1;33m\u001b[0m\u001b[0m\n\u001b[0m\u001b[0;32m     20\u001b[0m \u001b[1;33m\u001b[0m\u001b[0m\n\u001b[0;32m     21\u001b[0m \u001b[1;32mif\u001b[0m \u001b[1;34m'sphinx'\u001b[0m \u001b[1;32min\u001b[0m \u001b[0msys\u001b[0m\u001b[1;33m.\u001b[0m\u001b[0mmodules\u001b[0m\u001b[1;33m:\u001b[0m\u001b[1;33m\u001b[0m\u001b[1;33m\u001b[0m\u001b[0m\n",
      "\u001b[1;31mException\u001b[0m: pyglet 2.0.9 requires Python 3.8 or newer."
     ]
    }
   ],
   "source": [
    "import viz_synth as vs\n",
    "\n",
    "pfile_path = r\"data_BR\\synth\\crossed_legs\\test_roll0_xl_f_lay_set1both_500.p\"\n",
    "subject = vs.viz_synth(pfile_path)\n"
   ]
  }
 ],
 "metadata": {
  "kernelspec": {
   "display_name": "pt1.2",
   "language": "python",
   "name": "python3"
  },
  "language_info": {
   "codemirror_mode": {
    "name": "ipython",
    "version": 3
   },
   "file_extension": ".py",
   "mimetype": "text/x-python",
   "name": "python",
   "nbconvert_exporter": "python",
   "pygments_lexer": "ipython3",
   "version": "3.6.13"
  },
  "orig_nbformat": 4
 },
 "nbformat": 4,
 "nbformat_minor": 2
}
